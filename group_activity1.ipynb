{
 "cells": [
  {
   "cell_type": "markdown",
   "metadata": {
    "id": "5V7HGU91gFA5"
   },
   "source": [
    "\n",
    "## Introduction to group coding exercises\n",
    "\n",
    "You will form groups of four and work on this exercise together, submitting a single code at the end of the class period. You will work together on exercises in the same groups each Thursday this quarter. Introduce yourselves and and decide among yourselves which roles you would like to undertake. Note that you cannot have the same role two weeks in a row, and you must fill each role at least once during the quarter.\n",
    "\n",
    "Roles and Responsibilities:\n",
    "\n",
    "1) Developer: Person who types the code and submits it to Canvas at the end of the class period.\n",
    "\n",
    "2) Reporter: Responsible for communicating with instructors, writing exercise reflection, and keeping any written notes.\n",
    "\n",
    "3) Researcher: Search slides, notes, and internet for solutions to coding problems.\n",
    "\n",
    "4) Documenter: Make sure code is adequately commented. Make sure any code solutions used from an online source like Stack Overflow are clearly noted and cited to avoid plagiarism.\n",
    "\n",
    "As a reminder, we will be grading based best practices in coding. These include: \n",
    "1) Variables are used to store objects\n",
    "\n",
    "2) Code is commented adequately\n",
    "\n",
    "3) Variables are names appropriately\n",
    "\n",
    "4) Code is efficient with minimal useless lines\n",
    "\n",
    "The rubric is attached below: \n",
    "![rubric](rubric.png)"
   ]
  },
  {
   "cell_type": "markdown",
   "metadata": {
    "id": "Qr-uuqkqohM4"
   },
   "source": [
    "Note here **and in the Gradescope submission** which who filled which roles:\n",
    "\n",
    "Developer: Ava\n",
    "\n",
    "Reporter: Julia\n",
    "\n",
    "Researcher: Claire\n",
    "\n",
    "Documenter: Jessica\n"
   ]
  },
  {
   "cell_type": "markdown",
   "metadata": {
    "deletable": false,
    "editable": false,
    "id": "RnKs4Rfl3WxI"
   },
   "source": [
    "# Question 1: Math, Variables, and Debugging (5 points)\n",
    "Below is a chunk of code with several errors (at least 9 unique ones). Copy the code into a new block, then debug it. Write comments describing the errors you find and how you fixed them.\n",
    "\n",
    "When you are finished, the code should run with no errors and print this text:\n",
    "\n",
    "*The Beatles were 23 21 20 and 23 when they arrived in America.*\n",
    "\n",
    "*Their names were: John Paul George and Ringo.*\n",
    "\n",
    "*The youngest Beatle's name was George.*\n",
    "\n",
    "*Their age range was (fill in here).*"
   ]
  },
  {
   "cell_type": "markdown",
   "metadata": {
    "deletable": false,
    "editable": false,
    "id": "3pCBXjfg3XYM",
    "tags": []
   },
   "source": [
    "## Copy and paste the code in this markdown cell into the code cell below.\n",
    "## DO NOT change the code in this block! Copy it or rewrite it in the block below.\n",
    "\n",
    "## Here are the Beatles' names\n",
    "1st_beatle = 'John'\n",
    "2nd_beatle = 'Paul\n",
    "3rd_beatle = 'George\"\n",
    "4th_beatle = 'Ringo'\n",
    "\n",
    "## Here are the Beatles' ages\n",
    "age1 = 23\n",
    "age2 = '21'\n",
    "age3 = '20'\n",
    "age4 = '22'\n",
    "\n",
    "## This is the age range of the Beatles\n",
    "age range = age1 - age3\n",
    "\n",
    "## Here are a few print statements\n",
    "print('The Beatles were', age1 age2 age3 'and' age4, 'when they arrived in America.')\n",
    "print('Their names were:',1st_beatle+2nd_beatle+3rd_beatle+'and'+4th_beatle.)\n",
    "print('The youngest Beatle's name was,' 3rd_beatle'.)\n",
    "print('Their age range' was 'age_range'.)"
   ]
  },
  {
   "cell_type": "code",
   "execution_count": 28,
   "metadata": {
    "tags": []
   },
   "outputs": [
    {
     "ename": "SyntaxError",
     "evalue": "invalid syntax. Perhaps you forgot a comma? (1135591074.py, line 22)",
     "output_type": "error",
     "traceback": [
      "\u001b[0;36m  Cell \u001b[0;32mIn[28], line 22\u001b[0;36m\u001b[0m\n\u001b[0;31m    print('Their names were', beatle_1+beatle_2+beatle_3+ 'and'+beatle_4'.')\u001b[0m\n\u001b[0m                              ^\u001b[0m\n\u001b[0;31mSyntaxError\u001b[0m\u001b[0;31m:\u001b[0m invalid syntax. Perhaps you forgot a comma?\n"
     ]
    }
   ],
   "source": [
    "...## Copy and paste the code in this markdown cell into the code cell below.\n",
    "## DO NOT change the code in this block! Copy it or rewrite it in the block below.\n",
    "\n",
    "## Here are the Beatles' names\n",
    "beatle_1 = 'John'\n",
    "beatle_2 = 'Paul'\n",
    "beatle_3 = 'George'\n",
    "beatle_4 = 'Ringo'\n",
    "#renamed beatles variables so they don't start with numbers, standardized quotation marks \n",
    "## Here are the Beatles' ages\n",
    "age1 = 23\n",
    "age2 = 21\n",
    "age3 = 20\n",
    "age4 = 22\n",
    "#removed quotations \n",
    "## This is the age range of the Beatles\n",
    "age_range = age1\n",
    "age_range -= age3\n",
    "#fixed operation, corrected space in age range \n",
    "## Here are a few print statements\n",
    "print('The Beatles were', age1, age2, age3, 'and', age4, 'when they arrived in America.')\n",
    "print('Their names were', beatle_1+beatle_2+beatle_3+ 'and'+beatle_4'.')\n",
    "print(\"'The youngest Beatle's name was,\" beatle_3'.')\n",
    "print('Their age range was' age_range '.')\n",
    "#added commas between ages in line 21, added quotations in line 22 and changed variable names, added quotes to line23"
   ]
  },
  {
   "cell_type": "markdown",
   "metadata": {
    "deletable": false,
    "editable": false,
    "id": "kQ_S9WJvvNyH"
   },
   "source": [
    "# Question 2: Alphabet slicing activity (4 points)\n",
    "The sentence \"The quick brown fox jumps over the lazy dog\" includes every letter in the english alphabet. In this exercise you will use string slicing to write **one** group member's name by indexing letters in the sentence. Write your code in the block below, and be sure to write comments describing each step of your code.\n",
    "\n",
    "1) Select the letters in your chosen name (First and Last) by slicing this string using index values and assigning them to variables. \n",
    "\n",
    "*example: letter_e = abc_str[2]*\n",
    "\n",
    "2) Create a single string out of the letters to write your full name, with a space between first and last. Assign it to a variable.\n",
    "\n",
    "3) Capitalize the first letter of your first and last names using the upper function! Assign the capitalized name to a variable.\n",
    "\n",
    "4) Write a print statement with the result:\n",
    "\n",
    "My name is Lastname, Firstname Lastname."
   ]
  },
  {
   "cell_type": "code",
   "execution_count": null,
   "metadata": {
    "id": "u-gI1vepgCrT",
    "tags": []
   },
   "outputs": [],
   "source": [
    "#don't change this original string\n",
    "abc_str = 'the quick brown fox jumps over the lazy dog'\n",
    "# index letters here\n",
    "...\n",
    "first_name = ...\n",
    "last_name = ...\n",
    "final_name = ...\n",
    "print(...)"
   ]
  },
  {
   "cell_type": "markdown",
   "metadata": {
    "deletable": false,
    "editable": false,
    "id": "I1NYRpyPgD_X"
   },
   "source": [
    "<!-- BEGIN QUESTION -->\n",
    "\n",
    "# Reflection questions (1 point)\n",
    "The purpose of the reflection is to inform us as instructors about students comfort level with course content. We use these answers to inform how we spend class time and design coursework in subsequent weeks. This question is graded for completeness, so please answer each question in the text box below. Be concise in your answers (max. 2 sentences). \n",
    "\n",
    "1) What do you feel you excelled at in this exercise? Why?\n",
    "\n",
    "2) What did you struggle with most in the exercise? Why?\n",
    "\n",
    "3) Is there any topic you feel we need to revisit or review in class? Why?\n",
    "\n",
    "4) How do you feel about the content and structure of the course so far? Is there anything you wish the instructors would change? "
   ]
  },
  {
   "cell_type": "markdown",
   "metadata": {},
   "source": [
    "_Type your answer here, replacing this text._"
   ]
  },
  {
   "cell_type": "markdown",
   "metadata": {
    "deletable": false,
    "editable": false
   },
   "source": [
    "<!-- END QUESTION -->\n",
    "\n"
   ]
  }
 ],
 "metadata": {
  "colab": {
   "collapsed_sections": [],
   "provenance": []
  },
  "kernelspec": {
   "display_name": "Python 3 (ipykernel)",
   "language": "python",
   "name": "python3"
  },
  "language_info": {
   "codemirror_mode": {
    "name": "ipython",
    "version": 3
   },
   "file_extension": ".py",
   "mimetype": "text/x-python",
   "name": "python",
   "nbconvert_exporter": "python",
   "pygments_lexer": "ipython3",
   "version": "3.10.10"
  },
  "otter": {
   "OK_FORMAT": true,
   "tests": {
    "Question 1": {
     "name": "Question 1",
     "points": 5,
     "suites": [
      {
       "cases": [
        {
         "code": ">>> assert int(age_range) == 3\n",
         "hidden": false,
         "locked": false,
         "points": 1
        },
        {
         "code": ">>> assert int(age2) - int(age3) == 1\n",
         "hidden": false,
         "locked": false,
         "points": 1
        }
       ],
       "scored": true,
       "setup": "",
       "teardown": "",
       "type": "doctest"
      }
     ]
    },
    "Question 2": {
     "name": "Question 2",
     "points": 4,
     "suites": [
      {
       "cases": [
        {
         "code": ">>> # check if first name is capitalized\n>>> assert first_name.lower().capitalize() == first_name\n",
         "hidden": false,
         "locked": false,
         "points": 1
        },
        {
         "code": ">>> # check if last name is capitalized\n>>> assert last_name.lower().capitalize() == last_name\n",
         "hidden": false,
         "locked": false,
         "points": 1
        }
       ],
       "scored": true,
       "setup": "",
       "teardown": "",
       "type": "doctest"
      }
     ]
    }
   }
  }
 },
 "nbformat": 4,
 "nbformat_minor": 4
}
